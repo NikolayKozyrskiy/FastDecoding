{
 "cells": [
  {
   "cell_type": "markdown",
   "metadata": {
    "id": "HE9j0OXWfaAV"
   },
   "source": [
    "### Sequential implementation"
   ]
  },
  {
   "cell_type": "code",
   "execution_count": 1,
   "metadata": {
    "id": "Mh1_TKM_faAV"
   },
   "outputs": [],
   "source": [
    "from scipy.stats import norm\n",
    "import copy\n",
    "import numpy as np\n",
    "import itertools as itt\n",
    "import time\n",
    "import warnings\n",
    "warnings.filterwarnings('ignore')\n",
    "\n",
    "\n",
    "def get_H(m):\n",
    "    k = 2**m - 1 - m\n",
    "    n = 2**m - 1\n",
    "    H = np.zeros((n, n-k))\n",
    "    for i, comb in enumerate(itt.product([0,1], repeat=n-k)):\n",
    "        if np.sum(comb) == 0:\n",
    "            continue\n",
    "        H[i-1, :] = np.array(comb)\n",
    "    return H.astype(int)\n",
    "    \n",
    "def bpsk(x):\n",
    "    y = np.where(x == 1, -np.ones_like(x), x)\n",
    "    y = np.where(y == 0, np.ones_like(y), y)\n",
    "    return y\n",
    "\n",
    "def get_LLR(x):\n",
    "    llr = np.ones_like(x)\n",
    "    llr[0] = -0.5\n",
    "    llr[-1] = -0.5\n",
    "    return llr\n",
    "\n",
    "def get_score(hard_decision, llr):\n",
    "    return np.sum(hard_decision * np.abs(llr))\n",
    "\n",
    "def get_H_row_idx(syndrome):\n",
    "    idx = ''\n",
    "    for i in syndrome:\n",
    "        idx += str(i)\n",
    "    idx = np.int(idx, base=2) - 1\n",
    "    return idx\n",
    "\n",
    "def process_combinations(llr, a, H):\n",
    "    hard_decision = llr < 0\n",
    "    sorting_idxs = np.argsort(np.abs(llr))[:a]\n",
    "    scores = []\n",
    "    hd_list = []\n",
    "    for vals in itt.product([0, 1], repeat=a):\n",
    "        new_hard_decision = copy.deepcopy(hard_decision)\n",
    "        new_hard_decision[sorting_idxs] = np.asarray(vals)\n",
    "        syndrome = (new_hard_decision @ H) % 2\n",
    "        H_row_idx = get_H_row_idx(syndrome)\n",
    "        if H_row_idx != -1:\n",
    "            new_hard_decision[H_row_idx] = (new_hard_decision[H_row_idx] + 1) % 2\n",
    "        scores.append(get_score(new_hard_decision, llr))\n",
    "        hd_list.append(new_hard_decision)\n",
    "    return scores, hd_list\n",
    "\n",
    "def chase_code(a, H):\n",
    "    code_word = bpsk(np.zeros(H.shape[0]))\n",
    "    llr = get_LLR(code_word)\n",
    "    start_time = time.time()\n",
    "    scores, hd_list = process_combinations(llr, a, H)\n",
    "    stop_time = time.time()\n",
    "    best_score_idx = np.argmin(scores)\n",
    "    return hd_list[best_score_idx], stop_time - start_time\n",
    "    \n",
    "    "
   ]
  },
  {
   "cell_type": "code",
   "execution_count": 2,
   "metadata": {
    "colab": {
     "base_uri": "https://localhost:8080/"
    },
    "id": "cSjnpJWafaAW",
    "outputId": "6295db94-f935-4a1b-bdc2-f44783927e5b"
   },
   "outputs": [
    {
     "name": "stdout",
     "output_type": "stream",
     "text": [
      "times.sum(): 11.4188232421875\n",
      "times.mean(): 0.0114188232421875\n",
      "times.std(): 0.00034044061888356306\n"
     ]
    }
   ],
   "source": [
    "m = 12\n",
    "a = 6\n",
    "n = 2**m - 1\n",
    "H = get_H(m)\n",
    "N = 1000\n",
    "times = []\n",
    "for _ in range(N):\n",
    "    res, t = chase_code(a, H)\n",
    "    times.append(t)\n",
    "times = np.array(times)\n",
    "\n",
    "print(f'times.sum(): {times.sum()}')\n",
    "print(f'times.mean(): {times.mean()}')\n",
    "print(f'times.std(): {times.std()}')"
   ]
  },
  {
   "cell_type": "markdown",
   "metadata": {
    "id": "VIcQFEj96odW"
   },
   "source": [
    "### Numba"
   ]
  },
  {
   "cell_type": "code",
   "execution_count": 3,
   "metadata": {
    "id": "TsqwBVJT6nch"
   },
   "outputs": [],
   "source": [
    "from numba import jit\n",
    "\n",
    "@jit(nopython=False) \n",
    "def get_H_numba(m):\n",
    "    k = 2**m - 1 - m\n",
    "    n = 2**m - 1\n",
    "    H = np.zeros((n, n-k))\n",
    "    for i, comb in enumerate(itt.product([0,1], repeat=n-k)):\n",
    "        if np.sum(comb) == 0:\n",
    "            continue\n",
    "        H[i-1, :] = np.array(comb)\n",
    "    return H.astype(int)\n",
    "\n",
    "@jit(nopython=True) \n",
    "def bpsk_numba(x):\n",
    "    y = np.where(x == 1, -np.ones_like(x), x)\n",
    "    y = np.where(y == 0, np.ones_like(y), y)\n",
    "    return y\n",
    "\n",
    "@jit(nopython=True)\n",
    "def get_LLR_numba(x):\n",
    "    llr = np.ones_like(x)\n",
    "    llr[0] = -0.5\n",
    "    llr[-1] = -0.5\n",
    "    return llr\n",
    "\n",
    "@jit(nopython=True)\n",
    "def get_score_numba(hard_decision, llr):\n",
    "    return np.sum(hard_decision * np.abs(llr))\n",
    "\n",
    "def get_H_row_idx_numba(syndrome):\n",
    "    idx = ''\n",
    "    for i in syndrome:\n",
    "        idx += str(i)\n",
    "    idx = np.int(idx, base=2) - 1\n",
    "    return idx\n",
    "\n",
    "@jit(nopython=False)\n",
    "def process_combinations_numba(llr, a, H):\n",
    "    hard_decision = llr < 0\n",
    "    sorting_idxs = np.argsort(np.abs(llr))[:a]\n",
    "    scores = []\n",
    "    hd_list = []\n",
    "    vals_list = list(itt.product([0, 1], repeat=a))\n",
    "    for vals in vals_list:\n",
    "        new_hard_decision = copy.deepcopy(hard_decision)\n",
    "        new_hard_decision[sorting_idxs] = vals\n",
    "        syndrome = (new_hard_decision @ H) % 2\n",
    "        H_row_idx = get_H_row_idx_numba(syndrome)\n",
    "        if H_row_idx != -1:\n",
    "            new_hard_decision[H_row_idx] = (new_hard_decision[H_row_idx] + 1) % 2\n",
    "        scores.append(get_score_numba(new_hard_decision, llr))\n",
    "        hd_list.append(new_hard_decision)\n",
    "    return scores, hd_list\n",
    "\n",
    "@jit(nopython=False) \n",
    "def chase_code_numba(a, H):\n",
    "    code_word = bpsk_numba(np.zeros(H.shape[0]))\n",
    "    llr = get_LLR_numba(code_word)\n",
    "    start_time = time.time()\n",
    "    scores, hd_list = process_combinations_numba(llr, a, H)\n",
    "    stop_time = time.time()\n",
    "    best_score_idx = np.argmin(scores)\n",
    "    return hd_list[best_score_idx], stop_time - start_time\n",
    "    \n",
    "    "
   ]
  },
  {
   "cell_type": "code",
   "execution_count": 4,
   "metadata": {
    "colab": {
     "base_uri": "https://localhost:8080/"
    },
    "id": "XA4eb-TF632Z",
    "outputId": "7763e095-4031-4c2f-9ce1-a3d45410609e"
   },
   "outputs": [
    {
     "name": "stdout",
     "output_type": "stream",
     "text": [
      "times_numba.sum(): 11.596175193786621\n",
      "times_numba.mean(): 0.01159617519378662\n",
      "times_numba.std(): 0.021683417232362803\n",
      "times_numba_real.sum(): 10.899255275726318\n",
      "times_numba_real.mean(): 0.010910165441167486\n",
      "times_numba_real.std(): 0.0001784472142057775\n"
     ]
    }
   ],
   "source": [
    "m = 12\n",
    "a = 6\n",
    "n = 2**m - 1\n",
    "H = get_H(m)\n",
    "N = 1000\n",
    "times_numba = []\n",
    "for _ in range(N):\n",
    "    res, t = chase_code_numba(a, H)\n",
    "    times_numba.append(t)\n",
    "times_numba = np.array(times_numba)\n",
    "times_numba_real = times_numba[1:]\n",
    "\n",
    "print(f'times_numba.sum(): {times_numba.sum()}')\n",
    "print(f'times_numba.mean(): {times_numba.mean()}')\n",
    "print(f'times_numba.std(): {times_numba.std()}')\n",
    "\n",
    "print(f'times_numba_real.sum(): {times_numba_real.sum()}')\n",
    "print(f'times_numba_real.mean(): {times_numba_real.mean()}')\n",
    "print(f'times_numba_real.std(): {times_numba_real.std()}')"
   ]
  },
  {
   "cell_type": "code",
   "execution_count": 5,
   "metadata": {
    "colab": {
     "base_uri": "https://localhost:8080/"
    },
    "id": "qxInR14p-TDp",
    "outputId": "ee7bd205-9d83-4805-fc80-bb4ef08b3baa"
   },
   "outputs": [
    {
     "name": "stdout",
     "output_type": "stream",
     "text": [
      "Numba speed-up: 1.0466223728469497\n"
     ]
    }
   ],
   "source": [
    "print(f'Numba speed-up: {times.mean() / times_numba_real.mean()}')"
   ]
  },
  {
   "cell_type": "markdown",
   "metadata": {
    "id": "TrsSQmSOfaAX"
   },
   "source": [
    "### Parallel implementation"
   ]
  },
  {
   "cell_type": "code",
   "execution_count": 6,
   "metadata": {
    "colab": {
     "base_uri": "https://localhost:8080/"
    },
    "id": "SjfOq5Oxfi0L",
    "outputId": "c9568984-7d8e-406d-ccc4-25ac1e4eb7db"
   },
   "outputs": [],
   "source": [
    "# try:\n",
    "#     import mpi4py\n",
    "# except ModuleNotFoundError:\n",
    "#     !pip3 install mpi4py"
   ]
  },
  {
   "cell_type": "code",
   "execution_count": 7,
   "metadata": {
    "colab": {
     "base_uri": "https://localhost:8080/"
    },
    "id": "J9jZpfXwfaAX",
    "outputId": "1d7798e7-82cd-4aff-94d5-3f3a21b897d9"
   },
   "outputs": [
    {
     "name": "stdout",
     "output_type": "stream",
     "text": [
      "Writing chase_code.py\n"
     ]
    }
   ],
   "source": [
    "%%writefile chase_code.py\n",
    "from scipy.stats import norm\n",
    "import copy\n",
    "import numpy as np\n",
    "import itertools as itt\n",
    "from mpi4py import MPI\n",
    "\n",
    "def get_H(m):\n",
    "    k = 2**m - 1 - m\n",
    "    n = 2**m - 1\n",
    "    H = np.zeros((n, n-k))\n",
    "    for i, comb in enumerate(itt.product([0, 1], repeat=n-k)):\n",
    "        if np.sum(comb) == 0:\n",
    "            continue\n",
    "        H[i-1, :] = np.array(comb)\n",
    "    return H.astype(int)\n",
    "    \n",
    "def bpsk(x):\n",
    "    y = np.where(x == 1, -np.ones_like(x), x)\n",
    "    y = np.where(y == 0, np.ones_like(y), y)\n",
    "    return y\n",
    "\n",
    "def get_LLR(x):\n",
    "    llr = np.ones_like(x)\n",
    "    llr[0] = -0.5\n",
    "    llr[-1] = -0.5\n",
    "    return llr\n",
    "\n",
    "def get_score(hard_decision, llr):\n",
    "    return np.sum(hard_decision * np.abs(llr))\n",
    "\n",
    "def get_H_row_idx(syndrome):\n",
    "    idx = ''\n",
    "    for i in syndrome:\n",
    "        idx += str(i)\n",
    "    idx = int(idx, base=2) - 1\n",
    "    return idx\n",
    "\n",
    "def process_combinations(llr, a, H, mpisize, mpirank):\n",
    "    hard_decision = llr < 0\n",
    "    sorting_idxs = np.argsort(np.abs(llr))[:a]\n",
    "    scores = []\n",
    "    hd_list = []\n",
    "    vals_list = list(itt.product([0, 1], repeat=a))\n",
    "    vals_per_proc = 2**a // mpisize\n",
    "    residuals = 2**a % mpisize\n",
    "    if mpirank < residuals:\n",
    "        vals_per_proc += 1\n",
    "        start_idx = mpirank * vals_per_proc\n",
    "        stop_idx = (mpirank + 1) * vals_per_proc\n",
    "    else:\n",
    "        start_idx = mpirank * vals_per_proc + residuals\n",
    "        stop_idx = (mpirank + 1) * vals_per_proc + residuals\n",
    "    vals_list = vals_list[start_idx:stop_idx]   \n",
    "    for vals in vals_list:\n",
    "        new_hard_decision = copy.deepcopy(hard_decision)\n",
    "        new_hard_decision[sorting_idxs] = vals\n",
    "        # new_hard_decision[sorting_idxs] = np.asarray(vals)\n",
    "        syndrome = (new_hard_decision @ H) % 2\n",
    "        H_row_idx = get_H_row_idx(syndrome)\n",
    "        if H_row_idx != -1:\n",
    "            new_hard_decision[H_row_idx] = (new_hard_decision[H_row_idx] + 1) % 2\n",
    "        scores.append(get_score(new_hard_decision, llr))\n",
    "        hd_list.append(new_hard_decision)\n",
    "    return scores, hd_list\n",
    "\n",
    "def chase_code(a, H, mpisize, mpirank):\n",
    "    code_word = bpsk(np.zeros(H.shape[0]))\n",
    "    llr = get_LLR(code_word)\n",
    "    start_time = MPI.Wtime()\n",
    "    scores_part, hd_list_part = process_combinations(llr, a, H, mpisize, mpirank)\n",
    "    stop_time = MPI.Wtime()\n",
    "    scores = []\n",
    "    scores = comm.gather(scores_part, root=0)\n",
    "    hd_list = comm.gather(hd_list_part, root=0)\n",
    "    gathered_time = comm.gather(stop_time - start_time, root=0)\n",
    "    if mpirank == 0:\n",
    "        scores = [i for batch in scores for i in batch]\n",
    "        hd_list = [i for batch in hd_list for i in batch]\n",
    "        return hd_list[np.argmin(scores)], gathered_time\n",
    "    else:\n",
    "        return None\n",
    "\n",
    "\n",
    "\n",
    "comm = MPI.COMM_WORLD\n",
    "size = comm.Get_size()\n",
    "rank = comm.Get_rank()\n",
    "\n",
    "m = 14\n",
    "a = 9\n",
    "n = 2**m - 1\n",
    "H = get_H(m)\n",
    "N = 100\n",
    "\n",
    "times = []\n",
    "for _ in range(N):\n",
    "    if rank == 0:\n",
    "        res, time = chase_code(a, H, size, rank)\n",
    "        times.append(np.max(time))\n",
    "    else:\n",
    "        chase_code(a, H, size, rank)\n",
    "\n",
    "if rank == 0:\n",
    "    with open(f'{size}.txt', \"a\") as f:\n",
    "        f.write(str(np.mean(times)) + '\\n')\n"
   ]
  },
  {
   "cell_type": "code",
   "execution_count": 8,
   "metadata": {
    "id": "_0T2aKDSfaAY"
   },
   "outputs": [],
   "source": [
    "N = 8\n",
    "for n in range(1, N+1):\n",
    "    !mpiexec --allow-run-as-root -n {n} python chase_code.py\n"
   ]
  },
  {
   "cell_type": "code",
   "execution_count": 9,
   "metadata": {
    "id": "jCBY7_wqfaAZ"
   },
   "outputs": [],
   "source": [
    "import os\n",
    "\n",
    "speed_ups = []\n",
    "for i in range(1, N+1):\n",
    "    f_name = f'{i}.txt'\n",
    "    with open(f_name, \"r\") as f:\n",
    "        res = f.readlines()\n",
    "        res = np.array(res, dtype=float)\n",
    "    speed_ups.append(res.mean())\n",
    "    # os.remove(f_name)\n",
    "\n",
    "speed_ups = np.array(speed_ups)\n",
    "speed_ups = 1 / speed_ups * speed_ups[0]"
   ]
  },
  {
   "cell_type": "code",
   "execution_count": 13,
   "metadata": {
    "colab": {
     "base_uri": "https://localhost:8080/",
     "height": 567
    },
    "id": "CwauP07QfaAZ",
    "outputId": "67314467-9b86-4eaa-e72e-57a8aade7ad4"
   },
   "outputs": [
    {
     "data": {
      "image/png": "[encoded data removed]",
      "text/plain": [
       "<Figure size 1152x648 with 1 Axes>"
      ]
     },
     "metadata": {
      "needs_background": "light"
     },
     "output_type": "display_data"
    }
   ],
   "source": [
    "from matplotlib import pyplot as plt\n",
    "runs_num = 100 # must be equal to N in chase_code.py\n",
    "plt.figure(figsize=(16, 9))\n",
    "plt.title(f'Hamming code with chase decoder. Speed-up on Number of Processes. {runs_num} runs')\n",
    "plt.xlabel('Number of processes')\n",
    "plt.ylabel('Speed-up')\n",
    "plt.grid()\n",
    "plt.xlim(1-0.1, N+0.1)\n",
    "plt.plot(np.arange(1, N+1), speed_ups, '--o');\n",
    "plt.savefig('hamming_code_chase_decoder_speedup.png', dpi=100);"
   ]
  },
  {
   "cell_type": "code",
   "execution_count": 12,
   "metadata": {
    "id": "lokEg4WNfaAa"
   },
   "outputs": [
    {
     "data": {
      "text/plain": [
       "<Figure size 432x288 with 0 Axes>"
      ]
     },
     "metadata": {},
     "output_type": "display_data"
    }
   ],
   "source": []
  },
  {
   "cell_type": "code",
   "execution_count": null,
   "metadata": {},
   "outputs": [],
   "source": []
  }
 ],
 "metadata": {
  "colab": {
   "collapsed_sections": [],
   "name": "Polar_code_and_RS.ipynb",
   "provenance": []
  },
  "kernelspec": {
   "display_name": "Python 3 (ipykernel)",
   "language": "python",
   "name": "python3"
  },
  "language_info": {
   "codemirror_mode": {
    "name": "ipython",
    "version": 3
   },
   "file_extension": ".py",
   "mimetype": "text/x-python",
   "name": "python",
   "nbconvert_exporter": "python",
   "pygments_lexer": "ipython3",
   "version": "3.9.0"
  }
 },
 "nbformat": 4,
 "nbformat_minor": 1
}
